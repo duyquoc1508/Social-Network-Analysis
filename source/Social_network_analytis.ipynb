{
  "nbformat": 4,
  "nbformat_minor": 0,
  "metadata": {
    "colab": {
      "name": "Social network analytis.ipynb",
      "provenance": [],
      "collapsed_sections": [],
      "toc_visible": true
    },
    "kernelspec": {
      "name": "python3",
      "display_name": "Python 3"
    }
  },
  "cells": [
    {
      "cell_type": "markdown",
      "metadata": {
        "id": "GZV7jvlf-lId",
        "colab_type": "text"
      },
      "source": [
        "# **Phân tích và trực quan hóa dữ liệu mạng xã hội**\n",
        "### Mạng xã hội: *Facebook*\n",
        "### Group: *UIT K11*\n",
        "https://www.facebook.com/groups/UIT.K2016"
      ]
    },
    {
      "cell_type": "markdown",
      "metadata": {
        "id": "u6Egh18TMjrh",
        "colab_type": "text"
      },
      "source": [
        "## Thu thập dữ liệu và tiền xử lí"
      ]
    },
    {
      "cell_type": "markdown",
      "metadata": {
        "id": "AUqRjdBp6sDO",
        "colab_type": "text"
      },
      "source": [
        "Đọc tất cả các user trong group UIT K11"
      ]
    },
    {
      "cell_type": "code",
      "metadata": {
        "id": "lf31GtcgsFtJ",
        "colab_type": "code",
        "outputId": "c4b65214-63cb-452e-cd61-ad6a3e9ac1d5",
        "colab": {
          "base_uri": "https://localhost:8080/",
          "height": 204
        }
      },
      "source": [
        "import pandas as pd \n",
        "data = pd.read_csv(\"UIT.K11.csv\")\n",
        "data.head()"
      ],
      "execution_count": 0,
      "outputs": [
        {
          "output_type": "execute_result",
          "data": {
            "text/html": [
              "<div>\n",
              "<style scoped>\n",
              "    .dataframe tbody tr th:only-of-type {\n",
              "        vertical-align: middle;\n",
              "    }\n",
              "\n",
              "    .dataframe tbody tr th {\n",
              "        vertical-align: top;\n",
              "    }\n",
              "\n",
              "    .dataframe thead th {\n",
              "        text-align: right;\n",
              "    }\n",
              "</style>\n",
              "<table border=\"1\" class=\"dataframe\">\n",
              "  <thead>\n",
              "    <tr style=\"text-align: right;\">\n",
              "      <th></th>\n",
              "      <th>Name</th>\n",
              "      <th>UID</th>\n",
              "    </tr>\n",
              "  </thead>\n",
              "  <tbody>\n",
              "    <tr>\n",
              "      <th>0</th>\n",
              "      <td>Trần Công</td>\n",
              "      <td>100010630570591</td>\n",
              "    </tr>\n",
              "    <tr>\n",
              "      <th>1</th>\n",
              "      <td>Lắc Si Lê</td>\n",
              "      <td>100003265219762</td>\n",
              "    </tr>\n",
              "    <tr>\n",
              "      <th>2</th>\n",
              "      <td>Hoà Võ</td>\n",
              "      <td>100013778894026</td>\n",
              "    </tr>\n",
              "    <tr>\n",
              "      <th>3</th>\n",
              "      <td>Minh Quân</td>\n",
              "      <td>100003050081671</td>\n",
              "    </tr>\n",
              "    <tr>\n",
              "      <th>4</th>\n",
              "      <td>Truong Nguyen</td>\n",
              "      <td>100037769810406</td>\n",
              "    </tr>\n",
              "  </tbody>\n",
              "</table>\n",
              "</div>"
            ],
            "text/plain": [
              "            Name              UID\n",
              "0      Trần Công  100010630570591\n",
              "1      Lắc Si Lê  100003265219762\n",
              "2         Hoà Võ  100013778894026\n",
              "3      Minh Quân  100003050081671\n",
              "4  Truong Nguyen  100037769810406"
            ]
          },
          "metadata": {
            "tags": []
          },
          "execution_count": 3
        }
      ]
    },
    {
      "cell_type": "code",
      "metadata": {
        "id": "hRAcsdO7spPh",
        "colab_type": "code",
        "outputId": "6866f9a4-033e-47b8-8820-f102643c5e71",
        "colab": {
          "base_uri": "https://localhost:8080/",
          "height": 34
        }
      },
      "source": [
        "list_uid_members = data[\"UID\"].tolist()\n",
        "print(type(list_uid_members[0]))"
      ],
      "execution_count": 0,
      "outputs": [
        {
          "output_type": "stream",
          "text": [
            "<class 'int'>\n"
          ],
          "name": "stdout"
        }
      ]
    },
    {
      "cell_type": "markdown",
      "metadata": {
        "id": "4w7YmFT0PNDu",
        "colab_type": "text"
      },
      "source": [
        "Chuyển giá trị sang kiểu string"
      ]
    },
    {
      "cell_type": "code",
      "metadata": {
        "id": "zBmAdn560Z0o",
        "colab_type": "code",
        "outputId": "c6b0310a-e9e4-4fff-c787-96d84d7682a8",
        "colab": {
          "base_uri": "https://localhost:8080/",
          "height": 34
        }
      },
      "source": [
        "list_uid_members_str = list(map(str,list_uid_members))\n",
        "print(type(list_uid_members_str[0]))"
      ],
      "execution_count": 0,
      "outputs": [
        {
          "output_type": "stream",
          "text": [
            "<class 'str'>\n"
          ],
          "name": "stdout"
        }
      ]
    },
    {
      "cell_type": "markdown",
      "metadata": {
        "id": "u_0DRqMJ67GP",
        "colab_type": "text"
      },
      "source": [
        "Gọi tới api của Facebook để lấy bạn bè của tất cả user"
      ]
    },
    {
      "cell_type": "code",
      "metadata": {
        "id": "EoYqF_Sktwa_",
        "colab_type": "code",
        "colab": {}
      },
      "source": [
        "import requests as req\n",
        "token = 'EAAAAZAw4FxQIBAC0PsJZCjx8pu3Pvjq4ZAifAxicj6UJuhzrA98rwA1aW2RO6mHLYNKyMQy9AZA9SivEPjvMZBk9GZBw0UpDQ0IDdKrLNPwQPkSYvbiPcOs525IjDHGNcZCZCHkaBj2qqf3EkF8bouZAJdoQN42ZBJU5HedcJFZCO0eztH9qKsZAaujtX8mkAdZA8vgkZDs'"
      ],
      "execution_count": 0,
      "outputs": []
    },
    {
      "cell_type": "markdown",
      "metadata": {
        "id": "BUMljvO_BZ8_",
        "colab_type": "text"
      },
      "source": [
        "Lấy ra tất cả các user trong group đặt chế độ public friend trên Facebook. Các user không public friend coi như không nằm trong group"
      ]
    },
    {
      "cell_type": "code",
      "metadata": {
        "id": "EWOan8CHGWkU",
        "colab_type": "code",
        "colab": {}
      },
      "source": [
        "import requests as req\n",
        "token = 'YOUR-TOKEN-HERE!'\n",
        "list_user_public_friend = []\n",
        "for uid in list_uid_members_str:\n",
        "  try:\n",
        "    res = req.get('https://graph.facebook.com/v4.0/'+ uid + '/friends?fields=id', params={'access_token': token})\n",
        "    friends_of_user = res.json()['data']\n",
        "    # Nếu friends_of_user != null => user này đặt chế độ public friend \n",
        "    if friends_of_user:\n",
        "      list_user_public_friend.append(uid)\n",
        "  except:\n",
        "    continue"
      ],
      "execution_count": 0,
      "outputs": []
    },
    {
      "cell_type": "code",
      "metadata": {
        "id": "R_xETSmsJnWo",
        "colab_type": "code",
        "outputId": "ad9f1d53-d221-4526-97e1-0cec80c5ba7c",
        "colab": {
          "base_uri": "https://localhost:8080/",
          "height": 34
        }
      },
      "source": [
        "print(list_user_public_friend[0])"
      ],
      "execution_count": 0,
      "outputs": [
        {
          "output_type": "stream",
          "text": [
            "100010630570591\n"
          ],
          "name": "stdout"
        }
      ]
    },
    {
      "cell_type": "code",
      "metadata": {
        "id": "bMjgMxofMWxO",
        "colab_type": "code",
        "outputId": "bc1ef4e0-c9d4-46ee-a355-0ce58135d5c5",
        "colab": {
          "base_uri": "https://localhost:8080/",
          "height": 34
        }
      },
      "source": [
        "print(len(list_user_public_friend))"
      ],
      "execution_count": 0,
      "outputs": [
        {
          "output_type": "stream",
          "text": [
            "1431\n"
          ],
          "name": "stdout"
        }
      ]
    },
    {
      "cell_type": "markdown",
      "metadata": {
        "id": "89zY9Jr6NGPO",
        "colab_type": "text"
      },
      "source": [
        "Định dạnh trả về của api"
      ]
    },
    {
      "cell_type": "code",
      "metadata": {
        "id": "_qTAB9YNMlYS",
        "colab_type": "code",
        "outputId": "c5bc9051-175c-47a5-a853-90e1eb5b2893",
        "colab": {
          "base_uri": "https://localhost:8080/",
          "height": 54
        }
      },
      "source": [
        "res = req.get('https://graph.facebook.com/v4.0/100009157116574/friends?fields=id', params={'access_token': token})\n",
        "print(res.json())"
      ],
      "execution_count": 0,
      "outputs": [
        {
          "output_type": "stream",
          "text": [
            "{'data': [{'id': '529163359'}, {'id': '608115349'}, {'id': '720083187'}, {'id': '1303000653'}, {'id': '1371819347'}, {'id': '1834012460'}, {'id': '100000139238255'}, {'id': '100000147657530'}, {'id': '100000170377497'}, {'id': '100000248454383'}, {'id': '100000487774478'}, {'id': '100000517419854'}, {'id': '100000601257708'}, {'id': '100000607404624'}, {'id': '100000757973562'}, {'id': '100000909431136'}, {'id': '100001006448357'}, {'id': '100001063881293'}, {'id': '100001215087238'}, {'id': '100001294330407'}, {'id': '100001296555549'}, {'id': '100001375618899'}, {'id': '100001649633212'}, {'id': '100001778275428'}, {'id': '100001805609023'}], 'paging': {'cursors': {'before': 'QVFIUmwyWFBrMUxLQ2k2Mzd2eW9ZAZA3lYS3N3cWJudUxtNVRINGNxV09oS0twOHNoX242NDcwNENIUE5fbElSZA25KVzcZD', 'after': 'QVFIUjJYYXBxQzlfYlYwRnRiLWl0Ym5yLW9lemMzVnFjd1EzcFBaRGZAPLWZApS1BBVGJ1NkdpUnQ2eHNBOVlZALUxIa1pLcGlrSGVSVVdEZA3NFYlhDY2p4NXh3'}, 'next': 'https://graph.facebook.com/v4.0/100009157116574/friends?access_token=EAAAAZAw4FxQIBAKIZAch0Tk7XNRQa0Vpcg50TTsSZAatoJkJCHZB5c1BsaLCTtDDkoYVVcWDzloCxULYEm6GaZB7aI6e55l3kBgKoEFY5VqmHMdXZAAYHKapB2FZCMzfo4nLToq27yW0Mi3awtjjcuZCJTTXww3sWxqCDzmkrkJh6wZDZD&fields=id&limit=25&after=QVFIUjJYYXBxQzlfYlYwRnRiLWl0Ym5yLW9lemMzVnFjd1EzcFBaRGZAPLWZApS1BBVGJ1NkdpUnQ2eHNBOVlZALUxIa1pLcGlrSGVSVVdEZA3NFYlhDY2p4NXh3'}, 'summary': {'total_count': 533}}\n"
          ],
          "name": "stdout"
        }
      ]
    },
    {
      "cell_type": "markdown",
      "metadata": {
        "id": "hkhfS9HtNiUl",
        "colab_type": "text"
      },
      "source": [
        "Với mỗi user chỉ chọn ra các bạn bè nằm trong group UIT K11. Đồng thời ghi vào file"
      ]
    },
    {
      "cell_type": "code",
      "metadata": {
        "id": "6SyCbg5Vt1kP",
        "colab_type": "code",
        "colab": {}
      },
      "source": [
        "import csv\n",
        "with open('destinationestination_fillter.csv', mode='w+') as csvFile:\n",
        "  writer = csv.writer(csvFile, delimiter=',')\n",
        "\n",
        "  for uid in list_user_public_friend:\n",
        "    res = req.get('https://graph.facebook.com/v4.0/'+ uid + '/friends?fields=id&&limit=5000', params={'access_token': token})\n",
        "    friends_of_user = res.json()['data']\n",
        "    friends_in_group = []\n",
        "    for friend in friends_of_user:\n",
        "      # Chỉ chọn ra những bạn bè nằm trong danh sách public friend\n",
        "      if friend['id'] in list_user_public_friend:\n",
        "        friends_in_group.append(friend['id'])\n",
        "    row = [uid, *friends_in_group]\n",
        "    writer.writerow(row)\n",
        "\n",
        "csvFile.close()"
      ],
      "execution_count": 0,
      "outputs": []
    },
    {
      "cell_type": "markdown",
      "metadata": {
        "id": "9fOulrHWM1Ba",
        "colab_type": "text"
      },
      "source": [
        "## Tính toán các độ đo trong mạng"
      ]
    },
    {
      "cell_type": "code",
      "metadata": {
        "id": "_7-gSsyvnoyp",
        "colab_type": "code",
        "colab": {}
      },
      "source": [
        "f = open(\"destination_fillter.csv\", \"r\")\n",
        "data= f.read()\n",
        "file = open('destination_fillter.csv', 'r+');\n",
        "data = file.read().replace(',,','').replace(',\\n','\\n')\n",
        "\n",
        "# Loại bỏ đi phần tử cuối vì dòng cuối cũng kết thúc bằng kí hiệu '\\n'\n",
        "rows = data.split('\\n')[:-1]"
      ],
      "execution_count": 0,
      "outputs": []
    },
    {
      "cell_type": "markdown",
      "metadata": {
        "id": "ZnoR7B6ZM1yC",
        "colab_type": "text"
      },
      "source": [
        "Chuyển thành mảng 2 chiều với mỗi phần tử trong mảng là 1 dòng trong dữ liệu"
      ]
    },
    {
      "cell_type": "code",
      "metadata": {
        "id": "6l5G7XYhM05x",
        "colab_type": "code",
        "colab": {}
      },
      "source": [
        "def convert_to_2D_array(rows):\n",
        "    return [row.split(',') for row in rows]"
      ],
      "execution_count": 0,
      "outputs": []
    },
    {
      "cell_type": "code",
      "metadata": {
        "id": "02P0yVX2TYga",
        "colab_type": "code",
        "outputId": "7ac47b9b-d2fb-4327-f8af-9f96a411fd20",
        "colab": {
          "base_uri": "https://localhost:8080/",
          "height": 55
        }
      },
      "source": [
        "array_2D = convert_to_2D_array(rows)\n",
        "print(array_2D[17:19])"
      ],
      "execution_count": 0,
      "outputs": [
        {
          "output_type": "stream",
          "text": [
            "[['100033362014767', '100003392889872', '100004414514716'], ['100041592006552', '100005692004958', '100005854661259', '100011855953437']]\n"
          ],
          "name": "stdout"
        }
      ]
    },
    {
      "cell_type": "code",
      "metadata": {
        "id": "rnsx-skDo9n8",
        "colab_type": "code",
        "colab": {}
      },
      "source": [
        "port networkx as nx\n",
        "g = nx.Graph()\n",
        "\n",
        "# Lấy phần tử [i][0] truyền vào làm nodes cho đồ thị.\n",
        "for node in array_2D:\n",
        "  g.add_node(node[0])\n",
        "\n",
        "# Thêm cạnh cho đồ thị bằng cách bắt cặp phần tửi [i][0] với [i][j]\n",
        "for item in array_2D:\n",
        "  for index in range(1,len(item)):\n",
        "    g.add_edge(item[0], item[index])"
      ],
      "execution_count": 0,
      "outputs": []
    },
    {
      "cell_type": "code",
      "metadata": {
        "id": "-Bh0X_31g71c",
        "colab_type": "code",
        "outputId": "93dbfb4e-ee8a-49d6-ef2a-092db4deabbb",
        "colab": {
          "base_uri": "https://localhost:8080/",
          "height": 35
        }
      },
      "source": [
        "print(len(g.nodes()))"
      ],
      "execution_count": 0,
      "outputs": [
        {
          "output_type": "stream",
          "text": [
            "1441\n"
          ],
          "name": "stdout"
        }
      ]
    },
    {
      "cell_type": "code",
      "metadata": {
        "id": "YIFNLX7vD8Nl",
        "colab_type": "code",
        "outputId": "d600e516-3b37-44d7-bab4-ee5901022b5d",
        "colab": {
          "base_uri": "https://localhost:8080/",
          "height": 35
        }
      },
      "source": [
        "print(len(g.edges()))"
      ],
      "execution_count": 0,
      "outputs": [
        {
          "output_type": "stream",
          "text": [
            "11197\n"
          ],
          "name": "stdout"
        }
      ]
    },
    {
      "cell_type": "markdown",
      "metadata": {
        "id": "XFCfoTFUHiui",
        "colab_type": "text"
      },
      "source": [
        "Đọc file các uid và name thành dictionary để hiển thị tên lúc tính toán"
      ]
    },
    {
      "cell_type": "code",
      "metadata": {
        "id": "F3Ij9-QGHeIU",
        "colab_type": "code",
        "outputId": "8a37d37d-361c-4b95-9d09-73234cf1a938",
        "colab": {
          "base_uri": "https://localhost:8080/",
          "height": 34
        }
      },
      "source": [
        "import csv\n",
        "reader = csv.reader(open('UIT.K11.csv', 'r'))\n",
        "dict_user_uid = dict()\n",
        "\n",
        "for row in reader:\n",
        "  name, uid = row\n",
        "  dict_user_uid[uid] = name\n",
        "# Remove header\n",
        "del dict_user_uid['UID']\n",
        "print(next(iter(dict_user_uid.items())))"
      ],
      "execution_count": 0,
      "outputs": [
        {
          "output_type": "stream",
          "text": [
            "('100010630570591', 'Trần Công')\n"
          ],
          "name": "stdout"
        }
      ]
    },
    {
      "cell_type": "code",
      "metadata": {
        "id": "jAAMxSPPDdsK",
        "colab_type": "code",
        "colab": {}
      },
      "source": [
        "from prettytable import PrettyTable\n",
        "# Hiển thị uid, tên và kết quả của độ đo\n",
        "def findUser(dict_top10, dict_user_uid):\n",
        "  t = PrettyTable(['UID','Name','Centrality'])\n",
        "  for item in dict_top10:\n",
        "    t.add_row([item, dict_user_uid[item], dict_top10[item]])\n",
        "  print(t)\n",
        "\n",
        "# Chọn ra 10 user có độ đo lớn nhất\n",
        "def dict_top10(dict_centrality):\n",
        "  arr_top10 = sorted(dict_centrality.items(), key=lambda kv: kv[1], reverse=True)[:10]\n",
        "  dict_top10 = dict()\n",
        "  for index, value in arr_top10:\n",
        "    dict_top10[index] = value\n",
        "  return dict_top10"
      ],
      "execution_count": 0,
      "outputs": []
    },
    {
      "cell_type": "markdown",
      "metadata": {
        "id": "hh6-zywBHHPg",
        "colab_type": "text"
      },
      "source": [
        "**Degree Centrality**"
      ]
    },
    {
      "cell_type": "code",
      "metadata": {
        "id": "jwBH9XAR2470",
        "colab_type": "code",
        "outputId": "bbfc6a41-6e0c-4e05-eb5a-0b591ce67c17",
        "colab": {
          "base_uri": "https://localhost:8080/",
          "height": 272
        }
      },
      "source": [
        "dict_degree_centrality = dict( nx.degree_centrality(g))\n",
        "\n",
        "dict_top10_degree = dict_top10(dict_degree_centrality)\n",
        "print('Top 10 Key Player - Degree Centrality')\n",
        "findUser(dict_top10_degree, dict_user_uid)"
      ],
      "execution_count": 0,
      "outputs": [
        {
          "output_type": "stream",
          "text": [
            "Top 10 Key Player - Degree Centrality\n",
            "+-----------------+-----------------+---------------------+\n",
            "|       UID       |       Name      |      Centrality     |\n",
            "+-----------------+-----------------+---------------------+\n",
            "| 100022371771809 |     Toàn Lê     | 0.18611111111111112 |\n",
            "| 100027261426135 |     Bảo Phúc    | 0.17222222222222222 |\n",
            "| 100012780131803 | Dương Đức Thành | 0.13194444444444445 |\n",
            "| 100003782937571 |    Phương Lan   | 0.11875000000000001 |\n",
            "| 100005101389366 |   Cường Nguyễn  | 0.10833333333333334 |\n",
            "| 100007858844667 |      Võ Tân     | 0.10277777777777779 |\n",
            "| 100028418463108 | Nguyễn Minh Kha | 0.10208333333333333 |\n",
            "| 100005704122021 |  Nguyễn Thị Tâm | 0.10138888888888889 |\n",
            "| 100009961336237 |  Nguyễn Hữu Thọ | 0.09791666666666667 |\n",
            "| 100013232892681 |   Nguyễn Minh   | 0.09027777777777778 |\n",
            "+-----------------+-----------------+---------------------+\n"
          ],
          "name": "stdout"
        }
      ]
    },
    {
      "cell_type": "markdown",
      "metadata": {
        "id": "HZ7sd3LqHVv2",
        "colab_type": "text"
      },
      "source": [
        "**Betweenness Centrality**"
      ]
    },
    {
      "cell_type": "code",
      "metadata": {
        "id": "QghZk1aj20o0",
        "colab_type": "code",
        "outputId": "1176fc29-700f-43f5-b0af-84ded191d789",
        "colab": {
          "base_uri": "https://localhost:8080/",
          "height": 272
        }
      },
      "source": [
        "dict_betweenness_centrality = dict( nx.betweenness_centrality(g))\n",
        "\n",
        "dict_top10_betweenness = dict_top10(dict_betweenness_centrality)\n",
        "print('Top 10 Key Player - Betweenness Centrality')\n",
        "findUser(dict_top10_betweenness, dict_user_uid)"
      ],
      "execution_count": 0,
      "outputs": [
        {
          "output_type": "stream",
          "text": [
            "Top 10 Key Player - Betweenness Centrality\n",
            "+-----------------+----------------------+----------------------+\n",
            "|       UID       |         Name         |      Centrality      |\n",
            "+-----------------+----------------------+----------------------+\n",
            "| 100022371771809 |       Toàn Lê        | 0.08112260790619155  |\n",
            "| 100027261426135 |       Bảo Phúc       | 0.06382553393735739  |\n",
            "| 100012780131803 |   Dương Đức Thành    | 0.053292577294799304 |\n",
            "| 100005101389366 |     Cường Nguyễn     | 0.03580512886646365  |\n",
            "| 100003782937571 |      Phương Lan      | 0.03211173138494305  |\n",
            "| 100009961336237 |    Nguyễn Hữu Thọ    | 0.028198727497095916 |\n",
            "| 100005704122021 |    Nguyễn Thị Tâm    | 0.023319221601094908 |\n",
            "| 100013728429775 |     Nguyễn Khang     | 0.019770269620545282 |\n",
            "| 100003173570867 | Ngọc Anh Nguyễn Trần | 0.018512210207392858 |\n",
            "|    1720796306   |       Tuấn Anh       | 0.01829668821326984  |\n",
            "+-----------------+----------------------+----------------------+\n"
          ],
          "name": "stdout"
        }
      ]
    },
    {
      "cell_type": "markdown",
      "metadata": {
        "id": "Y7zecJ9lICaA",
        "colab_type": "text"
      },
      "source": [
        "**Closeness Centrality**"
      ]
    },
    {
      "cell_type": "code",
      "metadata": {
        "id": "2K8uDVKY3O2z",
        "colab_type": "code",
        "outputId": "7fc807b9-221b-40d8-a758-5014cca3ef1f",
        "colab": {
          "base_uri": "https://localhost:8080/",
          "height": 272
        }
      },
      "source": [
        "dict_closeness_centrality = dict( nx.closeness_centrality(g))\n",
        "\n",
        "dict_top10_closeness = dict_top10(dict_closeness_centrality)\n",
        "print('Top 10 Key Player - Centrality Centrality')\n",
        "findUser(dict_top10_closeness,dict_user_uid)"
      ],
      "execution_count": 0,
      "outputs": [
        {
          "output_type": "stream",
          "text": [
            "Top 10 Key Player - Centrality Centrality\n",
            "+-----------------+-----------------+---------------------+\n",
            "|       UID       |       Name      |      Centrality     |\n",
            "+-----------------+-----------------+---------------------+\n",
            "| 100022371771809 |     Toàn Lê     | 0.44288548752834467 |\n",
            "| 100027261426135 |     Bảo Phúc    | 0.44019044399368945 |\n",
            "| 100012780131803 | Dương Đức Thành |  0.4149405141278946 |\n",
            "| 100003782937571 |    Phương Lan   | 0.40776754770554097 |\n",
            "| 100005704122021 |  Nguyễn Thị Tâm |  0.4063930503537245 |\n",
            "| 100028418463108 | Nguyễn Minh Kha |  0.4060888639387891 |\n",
            "| 100005101389366 |   Cường Nguyễn  | 0.40578513255214826 |\n",
            "| 100007858844667 |      Võ Tân     | 0.40457473692932305 |\n",
            "| 100013232892681 |   Nguyễn Minh   |  0.4009864909255153 |\n",
            "| 100004674664188 |  Trần Hoàn Phúc |  0.3968798260586849 |\n",
            "+-----------------+-----------------+---------------------+\n"
          ],
          "name": "stdout"
        }
      ]
    },
    {
      "cell_type": "markdown",
      "metadata": {
        "id": "RMkTUcqjIozz",
        "colab_type": "text"
      },
      "source": [
        "**Eigenvector Centrality**"
      ]
    },
    {
      "cell_type": "code",
      "metadata": {
        "id": "L2SYVYrlJjWo",
        "colab_type": "code",
        "outputId": "43619f5c-ff4a-4832-ecf0-2cbbae7e9d3e",
        "colab": {
          "base_uri": "https://localhost:8080/",
          "height": 272
        }
      },
      "source": [
        "dict_eigenvector_centrality = dict(nx.eigenvector_centrality(g))\n",
        "\n",
        "dict_top10_eigenvector = dict_top10(dict_eigenvector_centrality)\n",
        "print('Top 10 Key Player - Eigenvector Centrality')\n",
        "findUser(dict_top10_eigenvector,dict_user_uid)"
      ],
      "execution_count": 0,
      "outputs": [
        {
          "output_type": "stream",
          "text": [
            "Top 10 Key Player - Eigenvector Centrality\n",
            "+-----------------+-----------------+---------------------+\n",
            "|       UID       |       Name      |      Centrality     |\n",
            "+-----------------+-----------------+---------------------+\n",
            "| 100027261426135 |     Bảo Phúc    | 0.20686464555867493 |\n",
            "| 100022371771809 |     Toàn Lê     | 0.20347673479521458 |\n",
            "| 100028418463108 | Nguyễn Minh Kha | 0.16567443150055888 |\n",
            "| 100003782937571 |    Phương Lan   |  0.1582691117661647 |\n",
            "| 100007858844667 |      Võ Tân     | 0.15536095041182596 |\n",
            "| 100005704122021 |  Nguyễn Thị Tâm | 0.14627100254898817 |\n",
            "| 100013232892681 |   Nguyễn Minh   | 0.13897445020909105 |\n",
            "| 100012780131803 | Dương Đức Thành | 0.13446323114404088 |\n",
            "| 100005101389366 |   Cường Nguyễn  | 0.12678700888806088 |\n",
            "| 100008574078227 |    Như Trương   | 0.12010892270463167 |\n",
            "+-----------------+-----------------+---------------------+\n"
          ],
          "name": "stdout"
        }
      ]
    },
    {
      "cell_type": "markdown",
      "metadata": {
        "id": "0PtgdSNkKfVW",
        "colab_type": "text"
      },
      "source": [
        "## Trực quan hóa dữ liệu"
      ]
    },
    {
      "cell_type": "code",
      "metadata": {
        "id": "6oSV5BDeKnez",
        "colab_type": "code",
        "outputId": "3ea20726-f114-4be3-860f-f2ecaa93bf6f",
        "colab": {
          "base_uri": "https://localhost:8080/",
          "height": 207
        }
      },
      "source": [
        "!pip install python-igraph"
      ],
      "execution_count": 0,
      "outputs": [
        {
          "output_type": "stream",
          "text": [
            "Collecting python-igraph\n",
            "\u001b[?25l  Downloading https://files.pythonhosted.org/packages/0f/a0/4e7134f803737aa6eebb4e5250565ace0e2599659e22be7f7eba520ff017/python-igraph-0.7.1.post6.tar.gz (377kB)\n",
            "\r\u001b[K     |▉                               | 10kB 15.9MB/s eta 0:00:01\r\u001b[K     |█▊                              | 20kB 1.8MB/s eta 0:00:01\r\u001b[K     |██▋                             | 30kB 2.6MB/s eta 0:00:01\r\u001b[K     |███▌                            | 40kB 1.7MB/s eta 0:00:01\r\u001b[K     |████▍                           | 51kB 2.1MB/s eta 0:00:01\r\u001b[K     |█████▏                          | 61kB 2.5MB/s eta 0:00:01\r\u001b[K     |██████                          | 71kB 2.9MB/s eta 0:00:01\r\u001b[K     |███████                         | 81kB 3.3MB/s eta 0:00:01\r\u001b[K     |███████▉                        | 92kB 3.7MB/s eta 0:00:01\r\u001b[K     |████████▊                       | 102kB 2.8MB/s eta 0:00:01\r\u001b[K     |█████████▌                      | 112kB 2.8MB/s eta 0:00:01\r\u001b[K     |██████████▍                     | 122kB 2.8MB/s eta 0:00:01\r\u001b[K     |███████████▎                    | 133kB 2.8MB/s eta 0:00:01\r\u001b[K     |████████████▏                   | 143kB 2.8MB/s eta 0:00:01\r\u001b[K     |█████████████                   | 153kB 2.8MB/s eta 0:00:01\r\u001b[K     |██████████████                  | 163kB 2.8MB/s eta 0:00:01\r\u001b[K     |██████████████▊                 | 174kB 2.8MB/s eta 0:00:01\r\u001b[K     |███████████████▋                | 184kB 2.8MB/s eta 0:00:01\r\u001b[K     |████████████████▌               | 194kB 2.8MB/s eta 0:00:01\r\u001b[K     |█████████████████▍              | 204kB 2.8MB/s eta 0:00:01\r\u001b[K     |██████████████████▎             | 215kB 2.8MB/s eta 0:00:01\r\u001b[K     |███████████████████             | 225kB 2.8MB/s eta 0:00:01\r\u001b[K     |████████████████████            | 235kB 2.8MB/s eta 0:00:01\r\u001b[K     |████████████████████▉           | 245kB 2.8MB/s eta 0:00:01\r\u001b[K     |█████████████████████▊          | 256kB 2.8MB/s eta 0:00:01\r\u001b[K     |██████████████████████▋         | 266kB 2.8MB/s eta 0:00:01\r\u001b[K     |███████████████████████▌        | 276kB 2.8MB/s eta 0:00:01\r\u001b[K     |████████████████████████▎       | 286kB 2.8MB/s eta 0:00:01\r\u001b[K     |█████████████████████████▏      | 296kB 2.8MB/s eta 0:00:01\r\u001b[K     |██████████████████████████      | 307kB 2.8MB/s eta 0:00:01\r\u001b[K     |███████████████████████████     | 317kB 2.8MB/s eta 0:00:01\r\u001b[K     |███████████████████████████▉    | 327kB 2.8MB/s eta 0:00:01\r\u001b[K     |████████████████████████████▋   | 337kB 2.8MB/s eta 0:00:01\r\u001b[K     |█████████████████████████████▌  | 348kB 2.8MB/s eta 0:00:01\r\u001b[K     |██████████████████████████████▍ | 358kB 2.8MB/s eta 0:00:01\r\u001b[K     |███████████████████████████████▎| 368kB 2.8MB/s eta 0:00:01\r\u001b[K     |████████████████████████████████| 378kB 2.8MB/s \n",
            "\u001b[?25hBuilding wheels for collected packages: python-igraph\n",
            "  Building wheel for python-igraph (setup.py) ... \u001b[?25l\u001b[?25hdone\n",
            "  Created wheel for python-igraph: filename=python_igraph-0.7.1.post6-cp36-cp36m-linux_x86_64.whl size=2218319 sha256=697ed4e2c55c1953e16719efded760631c80c34b7a566dada6222b6d0dbde49e\n",
            "  Stored in directory: /root/.cache/pip/wheels/41/d6/02/34eebae97e25f5b87d60f4c0687e00523e3f244fa41bc3f4a7\n",
            "Successfully built python-igraph\n",
            "Installing collected packages: python-igraph\n",
            "Successfully installed python-igraph-0.7.1.post6\n"
          ],
          "name": "stdout"
        }
      ]
    },
    {
      "cell_type": "markdown",
      "metadata": {
        "id": "p9wzT8JcLVA8",
        "colab_type": "text"
      },
      "source": [
        "Danh sách tất cả các node trong đồ thị"
      ]
    },
    {
      "cell_type": "code",
      "metadata": {
        "id": "58x4iP8RLUaA",
        "colab_type": "code",
        "outputId": "27503cd7-e1d9-485d-f0f3-d9e1f7d18dad",
        "colab": {
          "base_uri": "https://localhost:8080/",
          "height": 34
        }
      },
      "source": [
        "# Danh sách node trong mạng\n",
        "nodes = [item[0] for item in array_2D]\n",
        "print(nodes[0])\n",
        "# Output: 100010630570591"
      ],
      "execution_count": 0,
      "outputs": [
        {
          "output_type": "stream",
          "text": [
            "100010630570591\n"
          ],
          "name": "stdout"
        }
      ]
    },
    {
      "cell_type": "markdown",
      "metadata": {
        "id": "RfjFRqVLPwZ7",
        "colab_type": "text"
      },
      "source": [
        "Tạo danh sách cạnh có dạnh index của các node <br>\n",
        "Ex: ('100010630570591','100003265219762') -> (0,819)"
      ]
    },
    {
      "cell_type": "code",
      "metadata": {
        "id": "r316Y0ikLirG",
        "colab_type": "code",
        "outputId": "ea846482-453b-4083-bb26-da742fb72ac4",
        "colab": {
          "base_uri": "https://localhost:8080/",
          "height": 34
        }
      },
      "source": [
        "# Danh sách cạnh trong mạng ()\n",
        "edges = []\n",
        "for i in range(len(array_2D)):\n",
        "  for item in array_2D[i][1:]:\n",
        "    edges.append((i, nodes.index(item)))\n",
        "print(edges[0])\n",
        "# Output: (0, 819)"
      ],
      "execution_count": 0,
      "outputs": [
        {
          "output_type": "stream",
          "text": [
            "(0, 819)\n"
          ],
          "name": "stdout"
        }
      ]
    },
    {
      "cell_type": "code",
      "metadata": {
        "id": "wZED4C7IMNZt",
        "colab_type": "code",
        "outputId": "1172ee99-de1a-45b7-87dd-02d53f507134",
        "colab": {
          "base_uri": "https://localhost:8080/",
          "height": 34
        }
      },
      "source": [
        "number_node = len(nodes)\n",
        "print(number_node)\n",
        "# Output: 1441 => node"
      ],
      "execution_count": 0,
      "outputs": [
        {
          "output_type": "stream",
          "text": [
            "1441\n"
          ],
          "name": "stdout"
        }
      ]
    },
    {
      "cell_type": "code",
      "metadata": {
        "id": "Rq4kS8s7MP48",
        "colab_type": "code",
        "outputId": "4373b2b5-b630-4070-c1b4-228d5363897a",
        "colab": {
          "base_uri": "https://localhost:8080/",
          "height": 34
        }
      },
      "source": [
        "number_edge = len(edges)\n",
        "print(number_edge)\n",
        "# Output: 22394 => edges"
      ],
      "execution_count": 0,
      "outputs": [
        {
          "output_type": "stream",
          "text": [
            "22394\n"
          ],
          "name": "stdout"
        }
      ]
    },
    {
      "cell_type": "markdown",
      "metadata": {
        "id": "4F3uiMUGNCGn",
        "colab_type": "text"
      },
      "source": [
        "Tạo đồ thị"
      ]
    },
    {
      "cell_type": "code",
      "metadata": {
        "id": "wR-T_iWxK2fP",
        "colab_type": "code",
        "colab": {}
      },
      "source": [
        "import igraph as ig\n",
        "# Tạo đồ thị từ danh sách cạnh \n",
        "G=ig.Graph(edges, directed=False)"
      ],
      "execution_count": 0,
      "outputs": []
    },
    {
      "cell_type": "markdown",
      "metadata": {
        "id": "q-YTGThNNMZJ",
        "colab_type": "text"
      },
      "source": [
        "Tạo vị trí cho các nodes chế độ Kamada-Kawai 3 chiều"
      ]
    },
    {
      "cell_type": "code",
      "metadata": {
        "id": "fkMYk8w7NLHN",
        "colab_type": "code",
        "colab": {}
      },
      "source": [
        "# Chia layout 3 chiều \n",
        "layt=G.layout('kk', dim=3)"
      ],
      "execution_count": 0,
      "outputs": []
    },
    {
      "cell_type": "code",
      "metadata": {
        "id": "Q2tESRSNOGTy",
        "colab_type": "code",
        "outputId": "e5a93744-efe1-45c6-a634-379b0f0cb882",
        "colab": {
          "base_uri": "https://localhost:8080/",
          "height": 68
        }
      },
      "source": [
        "print(type(layt))\n",
        "print(layt[1])\n",
        "print(layt)"
      ],
      "execution_count": 0,
      "outputs": [
        {
          "output_type": "stream",
          "text": [
            "<class 'igraph.layout.Layout'>\n",
            "[-12.729917079025645, 3.1362231544865757, -17.040066077646934]\n",
            "<Layout with 1441 vertices and 3 dimensions>\n"
          ],
          "name": "stdout"
        }
      ]
    },
    {
      "cell_type": "markdown",
      "metadata": {
        "id": "rLLi1yQrQAgW",
        "colab_type": "text"
      },
      "source": [
        "Chuyển tọa độ từ [(x1,y1,z1),(x2,y2,z2),...] => X = [x1,x2,...] , Y = [...]"
      ]
    },
    {
      "cell_type": "code",
      "metadata": {
        "id": "fYVUwUXrPxo5",
        "colab_type": "code",
        "colab": {}
      },
      "source": [
        "# Chuyển tọa độ nodes\n",
        "Xn=[layt[k][0] for k in range(number_node)]# tọa độ theo trục x của node\n",
        "Yn=[layt[k][1] for k in range(number_node)]# tọa độ theo trục y\n",
        "Zn=[layt[k][2] for k in range(number_node)]# tọa độ theo trục z\n",
        "# Chuyển tọa độ cạnh\n",
        "Xe=[]\n",
        "Ye=[]\n",
        "Ze=[]\n",
        "for e in edges:\n",
        "  Xe+=[layt[e[0]][0],layt[e[1]][0], None]# tọa độ theo trục x của đầu cạnh\n",
        "  Ye+=[layt[e[0]][1],layt[e[1]][1], None]\n",
        "  Ze+=[layt[e[0]][2],layt[e[1]][2], None]"
      ],
      "execution_count": 0,
      "outputs": []
    },
    {
      "cell_type": "markdown",
      "metadata": {
        "id": "zASBZ5qqT-_2",
        "colab_type": "text"
      },
      "source": [
        "Giải thích code bên trong vòng lặp ở trên"
      ]
    },
    {
      "cell_type": "code",
      "metadata": {
        "id": "kYnUna2fTshi",
        "colab_type": "code",
        "outputId": "4e34c500-b195-4d35-f557-e07b23306942",
        "colab": {
          "base_uri": "https://localhost:8080/",
          "height": 102
        }
      },
      "source": [
        "e = edges[0]\n",
        "print('e: ',e)\n",
        "print('layt[e[0]]: ',layt[e[0]])\n",
        "print('layt[e[0]][0]: ',layt[e[0]][0])\n",
        "print('layt[e[1]]: ',layt[e[1]])\n",
        "print('layt[e[1]][0]: ',layt[e[1]][0])"
      ],
      "execution_count": 0,
      "outputs": [
        {
          "output_type": "stream",
          "text": [
            "e:  (0, 819)\n",
            "layt[e[0]]:  [-14.419033909554377, 3.5502182186181614, -17.325026103948023]\n",
            "layt[e[0]][0]:  -14.419033909554377\n",
            "layt[e[1]]:  [-13.569102650133628, 2.9503275700308884, -18.197894052971463]\n",
            "layt[e[1]][0]:  -13.569102650133628\n"
          ],
          "name": "stdout"
        }
      ]
    },
    {
      "cell_type": "code",
      "metadata": {
        "id": "XOLT2kbbRJra",
        "colab_type": "code",
        "outputId": "bc85588d-1837-4380-ee48-e0fd20f8d84a",
        "colab": {
          "base_uri": "https://localhost:8080/",
          "height": 51
        }
      },
      "source": [
        "print(len(Xn))\n",
        "print(Xn[0])"
      ],
      "execution_count": 0,
      "outputs": [
        {
          "output_type": "stream",
          "text": [
            "1441\n",
            "-14.419033909554377\n"
          ],
          "name": "stdout"
        }
      ]
    },
    {
      "cell_type": "code",
      "metadata": {
        "id": "4LNPZ_bVRMMm",
        "colab_type": "code",
        "outputId": "b5e7acd9-8a72-4acf-8104-81ec1cb38368",
        "colab": {
          "base_uri": "https://localhost:8080/",
          "height": 51
        }
      },
      "source": [
        "# Tọa độ 2 đầu cạnh theo chiều x\n",
        "print(Xe[:3])\n",
        "print(len(Xe))"
      ],
      "execution_count": 0,
      "outputs": [
        {
          "output_type": "stream",
          "text": [
            "[-14.419033909554377, -13.569102650133628, None]\n",
            "67182\n"
          ],
          "name": "stdout"
        }
      ]
    },
    {
      "cell_type": "markdown",
      "metadata": {
        "id": "KFsLq5EPcAIb",
        "colab_type": "text"
      },
      "source": [
        "67183 / 3 = 22394 edges"
      ]
    },
    {
      "cell_type": "markdown",
      "metadata": {
        "id": "TT1qzefJVYVT",
        "colab_type": "text"
      },
      "source": [
        "Chuyển qua tên để vẽ đồ thị"
      ]
    },
    {
      "cell_type": "code",
      "metadata": {
        "id": "NPad2RSwiyXv",
        "colab_type": "code",
        "outputId": "bf748352-c9fc-45d3-9f97-18e913f27c5a",
        "colab": {
          "base_uri": "https://localhost:8080/",
          "height": 34
        }
      },
      "source": [
        "info = []\n",
        "for i in range(len(nodes)):\n",
        "  uid = nodes[i]\n",
        "  name = dict_user_uid[uid]\n",
        "  info.append(nodes[i]+'<br>'+name)\n",
        "print(info[0])\n",
        "# Output: 100010630570591<br>Trần Công"
      ],
      "execution_count": 0,
      "outputs": [
        {
          "output_type": "stream",
          "text": [
            "100010630570591<br>Trần Công\n"
          ],
          "name": "stdout"
        }
      ]
    },
    {
      "cell_type": "code",
      "metadata": {
        "id": "NH6pq7XvVB1S",
        "colab_type": "code",
        "outputId": "c7fc6b8b-c35f-4f29-a9ee-51d0f2cfe2aa",
        "colab": {
          "base_uri": "https://localhost:8080/",
          "height": 51
        }
      },
      "source": [
        "print(nodes[1])\n",
        "print(info[1])"
      ],
      "execution_count": 0,
      "outputs": [
        {
          "output_type": "stream",
          "text": [
            "100003265219762\n",
            "100003265219762<br>Lắc Si Lê\n"
          ],
          "name": "stdout"
        }
      ]
    },
    {
      "cell_type": "markdown",
      "metadata": {
        "id": "wysNrsNRVnvt",
        "colab_type": "text"
      },
      "source": [
        "Xác định màu cho các node"
      ]
    },
    {
      "cell_type": "code",
      "metadata": {
        "id": "Bs3d71K4Vh_T",
        "colab_type": "code",
        "colab": {}
      },
      "source": [
        "color = []\n",
        "for item in array_2D:\n",
        "  len_item = len(item)\n",
        "  if(len_item == 1):\n",
        "    color.append(10)\n",
        "  elif(len_item == 2):\n",
        "    color.append(8)\n",
        "  elif(len_item == 3):\n",
        "    color.append(6)\n",
        "  elif(len_item < 5):\n",
        "    color.append(4)\n",
        "  elif(len_item < 10):\n",
        "    color.append(3)\n",
        "  elif(len_item < 50):\n",
        "    color.append(2)\n",
        "  else:\n",
        "    color.append(1)"
      ],
      "execution_count": 0,
      "outputs": []
    },
    {
      "cell_type": "code",
      "metadata": {
        "id": "52NNzvB5UeJW",
        "colab_type": "code",
        "colab": {}
      },
      "source": [
        "from plotly.offline import plot\n",
        "import plotly.graph_objs as go\n",
        "#Thêm cạnh\n",
        "trace1=go.Scatter3d(x=Xe,\n",
        "               y=Ye,\n",
        "               z=Ze,\n",
        "               mode='lines',\n",
        "               line=dict(color='rgb(125,125,125)', width=1),\n",
        "               hoverinfo='none'\n",
        "               )\n",
        "#Thêm node\n",
        "trace2=go.Scatter3d(x=Xn,\n",
        "               y=Yn,\n",
        "               z=Zn,\n",
        "               mode='markers',\n",
        "               marker=dict(symbol='circle',\n",
        "                             size=5,\n",
        "                             color=color,\n",
        "                             line=dict(color='rgb(50,50,50)', width=0.3),\n",
        "                             ),\n",
        "               text=info,\n",
        "               hoverinfo='text'\n",
        "               )\n",
        "\n",
        "axis=dict(showbackground=False,\n",
        "          showline=False,\n",
        "          zeroline=False,\n",
        "          showgrid=False,\n",
        "          showticklabels=False,\n",
        "          title=''\n",
        "          )\n",
        "\n",
        "layout = go.Layout(\n",
        "         title=\"Network of friends in the group UIT K11 (3D visualization)\",\n",
        "         width=1366,\n",
        "         height=768,\n",
        "         showlegend=False,\n",
        "         scene=dict(\n",
        "             xaxis=dict(axis),\n",
        "             yaxis=dict(axis),\n",
        "             zaxis=dict(axis),\n",
        "        ),\n",
        "    hovermode= 'closest'\n",
        "         )"
      ],
      "execution_count": 0,
      "outputs": []
    },
    {
      "cell_type": "code",
      "metadata": {
        "id": "zaI3495cVlp6",
        "colab_type": "code",
        "outputId": "bff6d780-37d4-463f-d9c5-000463b0a0b1",
        "colab": {
          "base_uri": "https://localhost:8080/",
          "height": 34
        }
      },
      "source": [
        "data=[trace1, trace2]\n",
        "fig=go.Figure(data=data, layout=layout)\n",
        "plot(fig, filename='3d_network_graphs.html')"
      ],
      "execution_count": 0,
      "outputs": [
        {
          "output_type": "execute_result",
          "data": {
            "text/plain": [
              "'3d_network_graphs.html'"
            ]
          },
          "metadata": {
            "tags": []
          },
          "execution_count": 67
        }
      ]
    },
    {
      "cell_type": "markdown",
      "metadata": {
        "id": "IG73LAIpZm_5",
        "colab_type": "text"
      },
      "source": [
        "Toàn bộ source code tại https://github.com/duyquoc1508/Social-Network-Analysis.git"
      ]
    }
  ]
}