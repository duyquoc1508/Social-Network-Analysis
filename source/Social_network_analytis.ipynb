{
  "nbformat": 4,
  "nbformat_minor": 0,
  "metadata": {
    "colab": {
      "name": "Social network analytis.ipynb",
      "provenance": [],
      "collapsed_sections": [
        "u6Egh18TMjrh",
        "9fOulrHWM1Ba"
      ],
      "toc_visible": true
    },
    "kernelspec": {
      "name": "python3",
      "display_name": "Python 3"
    }
  },
  "cells": [
    {
      "cell_type": "markdown",
      "metadata": {
        "id": "GZV7jvlf-lId",
        "colab_type": "text"
      },
      "source": [
        "# **Phân tích và trực quan hóa dữ liệu mạng xã hội**\n",
        "### Mạng xã hội: *Facebook*\n",
        "### Group: *UIT K11*\n",
        "https://www.facebook.com/groups/UIT.K2016"
      ]
    },
    {
      "cell_type": "markdown",
      "metadata": {
        "id": "u6Egh18TMjrh",
        "colab_type": "text"
      },
      "source": [
        "## Thu thập dữ liệu và tiền xử lí"
      ]
    },
    {
      "cell_type": "markdown",
      "metadata": {
        "id": "AUqRjdBp6sDO",
        "colab_type": "text"
      },
      "source": [
        "Đọc tất cả các user trong group UIT K11"
      ]
    },
    {
      "cell_type": "code",
      "metadata": {
        "id": "lf31GtcgsFtJ",
        "colab_type": "code",
        "colab": {}
      },
      "source": [
        "import pandas as pd \n",
        "data = pd.read_csv(\"UIT.K11.csv\") \n",
        "data.head()"
      ],
      "execution_count": 0,
      "outputs": []
    },
    {
      "cell_type": "code",
      "metadata": {
        "id": "hRAcsdO7spPh",
        "colab_type": "code",
        "colab": {}
      },
      "source": [
        "list_uid_members = data[\"UID\"].tolist()\n",
        "print(list_uid_members)"
      ],
      "execution_count": 0,
      "outputs": []
    },
    {
      "cell_type": "code",
      "metadata": {
        "id": "zBmAdn560Z0o",
        "colab_type": "code",
        "colab": {}
      },
      "source": [
        "list_uid_members_str = list(map(str,list_uid_members))\n",
        "print(list_uid_members_str)"
      ],
      "execution_count": 0,
      "outputs": []
    },
    {
      "cell_type": "markdown",
      "metadata": {
        "id": "u_0DRqMJ67GP",
        "colab_type": "text"
      },
      "source": [
        "Gọi tới api của Facebook để lấy bạn bè của tất cả user"
      ]
    },
    {
      "cell_type": "code",
      "metadata": {
        "id": "EoYqF_Sktwa_",
        "colab_type": "code",
        "colab": {}
      },
      "source": [
        "import requests as req\n",
        "token = 'EAAAAZAw4FxQIBAD8OB614aWaBpV9Jc3JjtXegHUasc0UX4ZA18Vk065sewsxSZA7LVoYZAPvnAIlHZAuI3SX8XNze3qZAEOOaT1NBqiK1yusYUk0yZA3QBKOHqHAf0ZCmwwGZBQF6KJ9VH9pE09iRMJZCP3Q5Qszrsjx39ZAvczngAMuQZDZD'"
      ],
      "execution_count": 0,
      "outputs": []
    },
    {
      "cell_type": "markdown",
      "metadata": {
        "id": "BUMljvO_BZ8_",
        "colab_type": "text"
      },
      "source": [
        "Lấy ra tất cả các user trong group đặt chế độ public friend trên Facebook. Các user không public friend coi như không nằm trong group"
      ]
    },
    {
      "cell_type": "code",
      "metadata": {
        "id": "EWOan8CHGWkU",
        "colab_type": "code",
        "colab": {}
      },
      "source": [
        "list_user_public_friend = []\n",
        "for uid in list_uid_members_str:\n",
        "  try:\n",
        "    res = req.get('https://graph.facebook.com/v4.0/'+ uid + '/friends?fields=id', params={'access_token': token})\n",
        "    friends_of_user = res.json()['data']\n",
        "    # Nếu friends_of_user != null => user này đặt chế độ public friend \n",
        "    if friends_of_user:\n",
        "      list_user_public_friend.append(uid)\n",
        "  except:\n",
        "    continue"
      ],
      "execution_count": 0,
      "outputs": []
    },
    {
      "cell_type": "code",
      "metadata": {
        "id": "R_xETSmsJnWo",
        "colab_type": "code",
        "colab": {}
      },
      "source": [
        "print(list_user_public_friend)"
      ],
      "execution_count": 0,
      "outputs": []
    },
    {
      "cell_type": "code",
      "metadata": {
        "id": "bMjgMxofMWxO",
        "colab_type": "code",
        "colab": {}
      },
      "source": [
        "print(len(list_user_public_friend))"
      ],
      "execution_count": 0,
      "outputs": []
    },
    {
      "cell_type": "markdown",
      "metadata": {
        "id": "89zY9Jr6NGPO",
        "colab_type": "text"
      },
      "source": [
        "Định dạnh trả về của api"
      ]
    },
    {
      "cell_type": "code",
      "metadata": {
        "id": "_qTAB9YNMlYS",
        "colab_type": "code",
        "colab": {}
      },
      "source": [
        "res = req.get('https://graph.facebook.com/v4.0/100010075866425/friends?fields=id', params={'access_token': token})\n",
        "print(res.json())"
      ],
      "execution_count": 0,
      "outputs": []
    },
    {
      "cell_type": "markdown",
      "metadata": {
        "id": "hkhfS9HtNiUl",
        "colab_type": "text"
      },
      "source": [
        "Với mỗi user chỉ chọn ra các bạn bè nằm trong group UIT K11. Đồng thời ghi vào file"
      ]
    },
    {
      "cell_type": "code",
      "metadata": {
        "id": "6SyCbg5Vt1kP",
        "colab_type": "code",
        "colab": {}
      },
      "source": [
        "import csv\n",
        "with open('destination.csv', mode='w+') as csvFile:\n",
        "  writer = csv.writer(csvFile, delimiter=',')\n",
        "\n",
        "  for uid in list_user_public_friend:\n",
        "    res = req.get('https://graph.facebook.com/v4.0/'+ uid + '/friends?fields=id&&limit=5000', params={'access_token': token})\n",
        "    friends_of_user = res.json()['data']\n",
        "    friends_in_group = []\n",
        "    for friend in friends_of_user:\n",
        "      # Chỉ chọn ra những bạn bè nằm trong danh sách public friend\n",
        "      if friend['id'] in list_user_public_friend:\n",
        "        friends_in_group.append(friend['id'])\n",
        "    row = [uid, *friends_in_group]\n",
        "    writer.writerow(row)\n",
        "\n",
        "csvFile.close()"
      ],
      "execution_count": 0,
      "outputs": []
    },
    {
      "cell_type": "markdown",
      "metadata": {
        "id": "9fOulrHWM1Ba",
        "colab_type": "text"
      },
      "source": [
        "## Tính toán các độ đo trong mạng"
      ]
    },
    {
      "cell_type": "code",
      "metadata": {
        "id": "_7-gSsyvnoyp",
        "colab_type": "code",
        "colab": {}
      },
      "source": [
        "f = open(\"destination.csv\", \"r\")\n",
        "data= f.read()\n",
        "file = open('destination.csv', 'r+');\n",
        "data = file.read().replace(',,','').replace(',\\n','\\n')\n",
        "\n",
        "# Loại bỏ đi phần tử cuối vì dòng cuối cũng kết thúc bằng kí hiệu \\n\n",
        "rows = data.split('\\n')[:-1]"
      ],
      "execution_count": 0,
      "outputs": []
    },
    {
      "cell_type": "markdown",
      "metadata": {
        "id": "ZnoR7B6ZM1yC",
        "colab_type": "text"
      },
      "source": [
        "Chuyển thành mảng 2 chiều với mỗi phần tử trong mảng là 1 dòng trong dữ liệu"
      ]
    },
    {
      "cell_type": "code",
      "metadata": {
        "id": "6l5G7XYhM05x",
        "colab_type": "code",
        "colab": {}
      },
      "source": [
        "def convert_to_2D_array(rows):\n",
        "    return [row.split(',') for row in rows]"
      ],
      "execution_count": 0,
      "outputs": []
    },
    {
      "cell_type": "code",
      "metadata": {
        "id": "02P0yVX2TYga",
        "colab_type": "code",
        "colab": {}
      },
      "source": [
        "array_2D = convert_to_2D_array(rows)\n",
        "print(array_2D)"
      ],
      "execution_count": 0,
      "outputs": []
    },
    {
      "cell_type": "code",
      "metadata": {
        "id": "rnsx-skDo9n8",
        "colab_type": "code",
        "colab": {}
      },
      "source": [
        "import networkx as nx\n",
        "g = nx.Graph()\n",
        "\n",
        "# Lấy phần tử [i][0] truyền vào làm nodes\n",
        "for node in array_2D:\n",
        "  g.add_node(node[0])\n",
        "\n",
        "# Thêm cạnh cho đồ thị bằng cách bắt cặp phần tửi [i][0] với [i][j]\n",
        "for item in array_2D:\n",
        "  for index in range(1,len(item)):\n",
        "    g.add_edge(item[0], item[index])"
      ],
      "execution_count": 0,
      "outputs": []
    },
    {
      "cell_type": "code",
      "metadata": {
        "id": "-Bh0X_31g71c",
        "colab_type": "code",
        "colab": {}
      },
      "source": [
        "print(g.nodes())"
      ],
      "execution_count": 0,
      "outputs": []
    },
    {
      "cell_type": "code",
      "metadata": {
        "id": "YIFNLX7vD8Nl",
        "colab_type": "code",
        "colab": {}
      },
      "source": [
        "print(g.edges())"
      ],
      "execution_count": 0,
      "outputs": []
    },
    {
      "cell_type": "markdown",
      "metadata": {
        "id": "XFCfoTFUHiui",
        "colab_type": "text"
      },
      "source": [
        "Đọc file các uid và name thành dictionary để hiển thị tên lúc tính toán"
      ]
    },
    {
      "cell_type": "code",
      "metadata": {
        "id": "F3Ij9-QGHeIU",
        "colab_type": "code",
        "colab": {}
      },
      "source": [
        "reader = csv.reader(open('UIT.K11.csv', 'r'))\n",
        "dict_user_uid = dict()\n",
        "\n",
        "for row in reader:\n",
        "  name, uid = row\n",
        "  dict_user_uid[uid] = name\n",
        "# Remove header\n",
        "del dict_user_uid['UID']\n",
        "print(dict_user_uid)"
      ],
      "execution_count": 0,
      "outputs": []
    },
    {
      "cell_type": "code",
      "metadata": {
        "id": "jAAMxSPPDdsK",
        "colab_type": "code",
        "colab": {}
      },
      "source": [
        "from prettytable import PrettyTable\n",
        "# Hiển thị uid, tên và kết quả của độ đo\n",
        "def findUser(dict_top10, dict_user_uid):\n",
        "  t = PrettyTable(['UID','Name','Centrality'])\n",
        "  for item in dict_top10:\n",
        "    t.add_row([item, dict_user_uid[item], dict_top10[item]])\n",
        "  print(t)\n",
        "\n",
        "# Chọn ra 10 user có độ đo lớn nhất\n",
        "def dict_top10(dict_centrality):\n",
        "  arr_top10 = sorted(dict_centrality.items(), key=lambda kv: kv[1], reverse=True)[:10]\n",
        "  dict_top10 = dict()\n",
        "  for index, value in arr_top10:\n",
        "    dict_top10[index] = value\n",
        "  return dict_top10"
      ],
      "execution_count": 0,
      "outputs": []
    },
    {
      "cell_type": "markdown",
      "metadata": {
        "id": "hh6-zywBHHPg",
        "colab_type": "text"
      },
      "source": [
        "**Degree Centrality**"
      ]
    },
    {
      "cell_type": "code",
      "metadata": {
        "id": "jwBH9XAR2470",
        "colab_type": "code",
        "outputId": "a89f538d-c38f-419a-b849-cdda9f207862",
        "colab": {
          "base_uri": "https://localhost:8080/",
          "height": 0
        }
      },
      "source": [
        "dict_degree_centrality = dict( nx.degree_centrality(g))\n",
        "\n",
        "dict_top10_degree = dict_top10(dict_degree_centrality)\n",
        "print('Top 10 Key Player - Degree Centrality')\n",
        "findUser(dict_top10_degree, dict_user_uid)"
      ],
      "execution_count": 30,
      "outputs": [
        {
          "output_type": "stream",
          "text": [
            "Top 10 Key Player - Degree Centrality\n",
            "+-----------------+-----------------+---------------------+\n",
            "|       UID       |       Name      |      Centrality     |\n",
            "+-----------------+-----------------+---------------------+\n",
            "| 100022371771809 |     Toàn Lê     | 0.18611111111111112 |\n",
            "| 100027261426135 |     Bảo Phúc    | 0.17222222222222222 |\n",
            "| 100012780131803 | Dương Đức Thành | 0.13194444444444445 |\n",
            "| 100003782937571 |    Phương Lan   | 0.11875000000000001 |\n",
            "| 100005101389366 |   Cường Nguyễn  | 0.10833333333333334 |\n",
            "| 100007858844667 |      Võ Tân     | 0.10277777777777779 |\n",
            "| 100028418463108 | Nguyễn Minh Kha | 0.10208333333333333 |\n",
            "| 100005704122021 |  Nguyễn Thị Tâm | 0.10138888888888889 |\n",
            "| 100009961336237 |  Nguyễn Hữu Thọ | 0.09791666666666667 |\n",
            "| 100013232892681 |   Nguyễn Minh   | 0.09027777777777778 |\n",
            "+-----------------+-----------------+---------------------+\n"
          ],
          "name": "stdout"
        }
      ]
    },
    {
      "cell_type": "markdown",
      "metadata": {
        "id": "HZ7sd3LqHVv2",
        "colab_type": "text"
      },
      "source": [
        "**Betweenness Centrality**"
      ]
    },
    {
      "cell_type": "code",
      "metadata": {
        "id": "QghZk1aj20o0",
        "colab_type": "code",
        "colab": {}
      },
      "source": [
        "dict_betweenness_centrality = dict( nx.betweenness_centrality(g))\n",
        "\n",
        "dict_top10_betweenness = dict_top10(dict_betweenness_centrality)\n",
        "print('Top 10 Key Player - Betweenness Centrality')\n",
        "findUser(dict_top10_betweenness, dict_user_uid)"
      ],
      "execution_count": 0,
      "outputs": []
    },
    {
      "cell_type": "markdown",
      "metadata": {
        "id": "Y7zecJ9lICaA",
        "colab_type": "text"
      },
      "source": [
        "**Closeness Centrality**"
      ]
    },
    {
      "cell_type": "code",
      "metadata": {
        "id": "2K8uDVKY3O2z",
        "colab_type": "code",
        "colab": {}
      },
      "source": [
        "dict_closeness_centrality = dict( nx.closeness_centrality(g))\n",
        "\n",
        "dict_top10_closeness = dict_top10(dict_closeness_centrality)\n",
        "print('Top 10 Key Player - Centrality Centrality')\n",
        "findUser(dict_top10_closeness,dict_user_uid)"
      ],
      "execution_count": 0,
      "outputs": []
    },
    {
      "cell_type": "markdown",
      "metadata": {
        "id": "RMkTUcqjIozz",
        "colab_type": "text"
      },
      "source": [
        "**Eigenvector Centrality**"
      ]
    },
    {
      "cell_type": "code",
      "metadata": {
        "id": "L2SYVYrlJjWo",
        "colab_type": "code",
        "colab": {}
      },
      "source": [
        "dict_eigenvector_centrality = dict( nx.eigenvector_centrality(g))\n",
        "\n",
        "dict_top10_eigenvector = dict_top10(dict_eigenvector_centrality)\n",
        "print('Top 10 Key Player - Eigenvector Centrality')\n",
        "findUser(dict_top10_eigenvector,dict_user_uid)"
      ],
      "execution_count": 0,
      "outputs": []
    },
    {
      "cell_type": "markdown",
      "metadata": {
        "id": "0PtgdSNkKfVW",
        "colab_type": "text"
      },
      "source": [
        "## Trực quan hóa dữ liệu"
      ]
    },
    {
      "cell_type": "code",
      "metadata": {
        "id": "6oSV5BDeKnez",
        "colab_type": "code",
        "colab": {}
      },
      "source": [
        "!pip install python-igraph"
      ],
      "execution_count": 0,
      "outputs": []
    },
    {
      "cell_type": "markdown",
      "metadata": {
        "id": "p9wzT8JcLVA8",
        "colab_type": "text"
      },
      "source": [
        "Danh sách tất cả các node trong đồ thị"
      ]
    },
    {
      "cell_type": "code",
      "metadata": {
        "id": "58x4iP8RLUaA",
        "colab_type": "code",
        "colab": {}
      },
      "source": [
        "nodes = [item[0] for item in array_2D]\n",
        "print(nodes)"
      ],
      "execution_count": 0,
      "outputs": []
    },
    {
      "cell_type": "code",
      "metadata": {
        "id": "pMlC67kwLo2o",
        "colab_type": "code",
        "colab": {}
      },
      "source": [
        "Tạo danh sách cạnh có dạnh index của các node\n",
        "Ex: ('100010630570591','100003265219762') -> (0,819)"
      ],
      "execution_count": 0,
      "outputs": []
    },
    {
      "cell_type": "code",
      "metadata": {
        "id": "r316Y0ikLirG",
        "colab_type": "code",
        "colab": {}
      },
      "source": [
        "edges = []\n",
        "for i in range(len(array_2D)):\n",
        "  for item in array_2D[i][1:]:\n",
        "    edges.append((i, nodes.index(item)))\n",
        "print(edges)"
      ],
      "execution_count": 0,
      "outputs": []
    },
    {
      "cell_type": "code",
      "metadata": {
        "id": "wZED4C7IMNZt",
        "colab_type": "code",
        "colab": {}
      },
      "source": [
        "number_node = len(nodes)\n",
        "print(numbers_node)"
      ],
      "execution_count": 0,
      "outputs": []
    },
    {
      "cell_type": "code",
      "metadata": {
        "id": "Rq4kS8s7MP48",
        "colab_type": "code",
        "colab": {}
      },
      "source": [
        "number_edge = len(edges)\n",
        "print(number_edge)"
      ],
      "execution_count": 0,
      "outputs": []
    },
    {
      "cell_type": "markdown",
      "metadata": {
        "id": "4F3uiMUGNCGn",
        "colab_type": "text"
      },
      "source": [
        "Tạo đồ thị"
      ]
    },
    {
      "cell_type": "code",
      "metadata": {
        "id": "wR-T_iWxK2fP",
        "colab_type": "code",
        "colab": {}
      },
      "source": [
        "import igraph as ig\n",
        "G=ig.Graph(edges, directed=False)"
      ],
      "execution_count": 0,
      "outputs": []
    },
    {
      "cell_type": "markdown",
      "metadata": {
        "id": "q-YTGThNNMZJ",
        "colab_type": "text"
      },
      "source": [
        "Tạo vị trí cho các nodes chế độ Kamada-Kawai 3 chiều"
      ]
    },
    {
      "cell_type": "code",
      "metadata": {
        "id": "fkMYk8w7NLHN",
        "colab_type": "code",
        "colab": {}
      },
      "source": [
        "layt=G.layout('kk', dim=3)"
      ],
      "execution_count": 0,
      "outputs": []
    },
    {
      "cell_type": "code",
      "metadata": {
        "id": "Q2tESRSNOGTy",
        "colab_type": "code",
        "colab": {}
      },
      "source": [
        "print(type(layt))\n",
        "print(layt[1])\n",
        "print(layt)"
      ],
      "execution_count": 0,
      "outputs": []
    },
    {
      "cell_type": "markdown",
      "metadata": {
        "id": "rLLi1yQrQAgW",
        "colab_type": "text"
      },
      "source": [
        "Chuyển tọa độ từ [(x1,y1,z1),(x2,y2,z2),...] => X = [x1,x2,...] , Y = [...]"
      ]
    },
    {
      "cell_type": "code",
      "metadata": {
        "id": "fYVUwUXrPxo5",
        "colab_type": "code",
        "colab": {}
      },
      "source": [
        "# Chuyển tọa độ nodes\n",
        "Xn=[layt[k][0] for k in range(number_node)]# tọa độ theo trục x của node\n",
        "Yn=[layt[k][1] for k in range(number_node)]# tọa độ theo trục y\n",
        "Zn=[layt[k][2] for k in range(number_node)]# tọa độ theo trục z\n",
        "# Chuyển tọa độ cạnh\n",
        "Xe=[]\n",
        "Ye=[]\n",
        "Ze=[]\n",
        "for e in edges:\n",
        "  Xe+=[layt[e[0]][0],layt[e[1]][0], None]# tọa độ theo trục x của đầu cạnh\n",
        "  Ye+=[layt[e[0]][1],layt[e[1]][1], None]\n",
        "  Ze+=[layt[e[0]][2],layt[e[1]][2], None]"
      ],
      "execution_count": 0,
      "outputs": []
    },
    {
      "cell_type": "markdown",
      "metadata": {
        "id": "zASBZ5qqT-_2",
        "colab_type": "text"
      },
      "source": [
        "Giải thích code bên trong vòng lặp ở trên"
      ]
    },
    {
      "cell_type": "code",
      "metadata": {
        "id": "kYnUna2fTshi",
        "colab_type": "code",
        "colab": {}
      },
      "source": [
        "e = edges[0]\n",
        "print('e: ',e)\n",
        "print('layt[e[0]]: ',layt[e[0]])\n",
        "print('layt[e[0]][0]: ',layt[e[0]][0])\n",
        "print('layt[e[1]]: ',layt[e[1]])\n",
        "print('layt[e[1]][0]: ',layt[e[1]][0])"
      ],
      "execution_count": 0,
      "outputs": []
    },
    {
      "cell_type": "code",
      "metadata": {
        "id": "XOLT2kbbRJra",
        "colab_type": "code",
        "colab": {}
      },
      "source": [
        "print(Xn)"
      ],
      "execution_count": 0,
      "outputs": []
    },
    {
      "cell_type": "code",
      "metadata": {
        "id": "4LNPZ_bVRMMm",
        "colab_type": "code",
        "colab": {}
      },
      "source": [
        "print(Xe)"
      ],
      "execution_count": 0,
      "outputs": []
    },
    {
      "cell_type": "markdown",
      "metadata": {
        "id": "TT1qzefJVYVT",
        "colab_type": "text"
      },
      "source": [
        "Chuyển qua tên để vẽ đồ thị"
      ]
    },
    {
      "cell_type": "code",
      "metadata": {
        "id": "NPad2RSwiyXv",
        "colab_type": "code",
        "colab": {}
      },
      "source": [
        "info = []\n",
        "for i in range(len(nodes)):\n",
        "  uid = nodes[i]\n",
        "  name = dict_user_uid[uid]\n",
        "  info.append(nodes[i]+'<br>'+name)\n",
        "print(info)"
      ],
      "execution_count": 0,
      "outputs": []
    },
    {
      "cell_type": "code",
      "metadata": {
        "id": "NH6pq7XvVB1S",
        "colab_type": "code",
        "colab": {}
      },
      "source": [
        "print(nodes)\n",
        "print(info)"
      ],
      "execution_count": 0,
      "outputs": []
    },
    {
      "cell_type": "code",
      "metadata": {
        "id": "52NNzvB5UeJW",
        "colab_type": "code",
        "colab": {}
      },
      "source": [
        "from plotly.offline import plot\n",
        "import plotly.graph_objs as go\n",
        "#Thêm cạnh\n",
        "trace1=go.Scatter3d(x=Xe,\n",
        "               y=Ye,\n",
        "               z=Ze,\n",
        "               mode='lines',\n",
        "               line=dict(color='rgb(125,125,125)', width=1),\n",
        "               hoverinfo='none'\n",
        "               )\n",
        "#Thêm node\n",
        "trace2=go.Scatter3d(x=Xn,\n",
        "               y=Yn,\n",
        "               z=Zn,\n",
        "               mode='markers',\n",
        "               marker=dict(symbol='circle',\n",
        "                             size=5,\n",
        "                             color='rgb(51, 190, 214)',\n",
        "                             line=dict(color='rgb(50,50,50)', width=0.3),\n",
        "                             ),\n",
        "               text=info,\n",
        "               hoverinfo='text'\n",
        "               )\n",
        "\n",
        "axis=dict(showbackground=False,\n",
        "          showline=False,\n",
        "          zeroline=False,\n",
        "          showgrid=False,\n",
        "          showticklabels=False,\n",
        "          title=''\n",
        "          )\n",
        "\n",
        "layout = go.Layout(\n",
        "         title=\"Network of friends in the group UIT K11 (3D visualization)\",\n",
        "         width=1024,\n",
        "         height=768,\n",
        "         showlegend=False,\n",
        "         scene=dict(\n",
        "             xaxis=dict(axis),\n",
        "             yaxis=dict(axis),\n",
        "             zaxis=dict(axis),\n",
        "        ),\n",
        "    hovermode= 'closest'\n",
        "         )"
      ],
      "execution_count": 0,
      "outputs": []
    },
    {
      "cell_type": "code",
      "metadata": {
        "id": "zaI3495cVlp6",
        "colab_type": "code",
        "colab": {}
      },
      "source": [
        "data=[trace1, trace2]\n",
        "fig=go.Figure(data=data, layout=layout)\n",
        "plot(fig, filename='3d_network_graphs.html')"
      ],
      "execution_count": 0,
      "outputs": []
    }
  ]
}